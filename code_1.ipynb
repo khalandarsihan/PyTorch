{
  "nbformat": 4,
  "nbformat_minor": 0,
  "metadata": {
    "colab": {
      "provenance": [],
      "authorship_tag": "ABX9TyO8wd9QXq5RNkZlgrLfTCM+",
      "include_colab_link": true
    },
    "kernelspec": {
      "name": "python3",
      "display_name": "Python 3"
    },
    "language_info": {
      "name": "python"
    }
  },
  "cells": [
    {
      "cell_type": "markdown",
      "metadata": {
        "id": "view-in-github",
        "colab_type": "text"
      },
      "source": [
        "<a href=\"https://colab.research.google.com/github/khalandarsihan/PyTorch/blob/main/code_1.ipynb\" target=\"_parent\"><img src=\"https://colab.research.google.com/assets/colab-badge.svg\" alt=\"Open In Colab\"/></a>"
      ]
    },
    {
      "cell_type": "code",
      "execution_count": 1,
      "metadata": {
        "id": "BiRCdsA1wXIY"
      },
      "outputs": [],
      "source": [
        "import numpy as np\n",
        "import torch"
      ]
    },
    {
      "cell_type": "code",
      "source": [
        "np.random.rand(3, 4)"
      ],
      "metadata": {
        "colab": {
          "base_uri": "https://localhost:8080/"
        },
        "id": "yYCdPTIqyAAc",
        "outputId": "2b57b7ca-86cc-41e8-d2a7-4d630e2c73e3"
      },
      "execution_count": 2,
      "outputs": [
        {
          "output_type": "execute_result",
          "data": {
            "text/plain": [
              "array([[0.55480831, 0.93192719, 0.43785626, 0.58816862],\n",
              "       [0.52624461, 0.47907896, 0.44442792, 0.42719909],\n",
              "       [0.89015979, 0.93061644, 0.14709071, 0.55587797]])"
            ]
          },
          "metadata": {},
          "execution_count": 2
        }
      ]
    },
    {
      "cell_type": "code",
      "source": [
        "tensor_2d = torch.rand(3, 4)\n",
        "tensor_2d"
      ],
      "metadata": {
        "colab": {
          "base_uri": "https://localhost:8080/"
        },
        "id": "HUbMHcLgyr2x",
        "outputId": "254a80b0-a57c-4308-fad0-3fba36ce735f"
      },
      "execution_count": 3,
      "outputs": [
        {
          "output_type": "execute_result",
          "data": {
            "text/plain": [
              "tensor([[0.6954, 0.2894, 0.6306, 0.5462],\n",
              "        [0.7291, 0.7930, 0.9684, 0.0799],\n",
              "        [0.2694, 0.4489, 0.3039, 0.4373]])"
            ]
          },
          "metadata": {},
          "execution_count": 3
        }
      ]
    },
    {
      "cell_type": "code",
      "source": [
        "tensor_3d = torch.zeros(2, 3, 4)\n",
        "tensor_3d\n"
      ],
      "metadata": {
        "colab": {
          "base_uri": "https://localhost:8080/"
        },
        "id": "suR5cMMsy5VZ",
        "outputId": "9178b2c8-588e-4351-de10-815eaff169bc"
      },
      "execution_count": 4,
      "outputs": [
        {
          "output_type": "execute_result",
          "data": {
            "text/plain": [
              "tensor([[[0., 0., 0., 0.],\n",
              "         [0., 0., 0., 0.],\n",
              "         [0., 0., 0., 0.]],\n",
              "\n",
              "        [[0., 0., 0., 0.],\n",
              "         [0., 0., 0., 0.],\n",
              "         [0., 0., 0., 0.]]])"
            ]
          },
          "metadata": {},
          "execution_count": 4
        }
      ]
    },
    {
      "cell_type": "code",
      "source": [
        "torch.tensor(np.random.rand(3, 4))"
      ],
      "metadata": {
        "colab": {
          "base_uri": "https://localhost:8080/"
        },
        "id": "PefPh3ZXzHen",
        "outputId": "2f0eae4e-f32a-44f4-8cae-fb24a76cf6a8"
      },
      "execution_count": 5,
      "outputs": [
        {
          "output_type": "execute_result",
          "data": {
            "text/plain": [
              "tensor([[0.1703, 0.7522, 0.1515, 0.9352],\n",
              "        [0.5272, 0.9237, 0.2749, 0.4154],\n",
              "        [0.8763, 0.6015, 0.2331, 0.2242]], dtype=torch.float64)"
            ]
          },
          "metadata": {},
          "execution_count": 5
        }
      ]
    },
    {
      "cell_type": "code",
      "source": [
        "t=torch.arange(10)"
      ],
      "metadata": {
        "id": "ClGOFHiwzRuW"
      },
      "execution_count": 7,
      "outputs": []
    },
    {
      "cell_type": "code",
      "source": [
        "t.reshape(5,2)"
      ],
      "metadata": {
        "colab": {
          "base_uri": "https://localhost:8080/"
        },
        "id": "g3U6WsrO0BbI",
        "outputId": "28106a13-1b51-40ce-e02f-cc4748ec7b62"
      },
      "execution_count": 8,
      "outputs": [
        {
          "output_type": "execute_result",
          "data": {
            "text/plain": [
              "tensor([[0, 1],\n",
              "        [2, 3],\n",
              "        [4, 5],\n",
              "        [6, 7],\n",
              "        [8, 9]])"
            ]
          },
          "metadata": {},
          "execution_count": 8
        }
      ]
    },
    {
      "cell_type": "code",
      "source": [
        "t.reshape(2,5)"
      ],
      "metadata": {
        "colab": {
          "base_uri": "https://localhost:8080/"
        },
        "id": "eywdq9QL0O_h",
        "outputId": "090fec5f-9bf2-45cd-a28f-d7eb5d189729"
      },
      "execution_count": 9,
      "outputs": [
        {
          "output_type": "execute_result",
          "data": {
            "text/plain": [
              "tensor([[0, 1, 2, 3, 4],\n",
              "        [5, 6, 7, 8, 9]])"
            ]
          },
          "metadata": {},
          "execution_count": 9
        }
      ]
    },
    {
      "cell_type": "code",
      "source": [
        "t.reshape(10,1)"
      ],
      "metadata": {
        "colab": {
          "base_uri": "https://localhost:8080/"
        },
        "id": "Offf20Ax0SRv",
        "outputId": "1d026c6b-8fce-454b-ddfe-a2f424dcc174"
      },
      "execution_count": 31,
      "outputs": [
        {
          "output_type": "execute_result",
          "data": {
            "text/plain": [
              "tensor([[   0],\n",
              "        [   1],\n",
              "        [   2],\n",
              "        [   3],\n",
              "        [   4],\n",
              "        [9999],\n",
              "        [   6],\n",
              "        [   7],\n",
              "        [   8],\n",
              "        [   9]])"
            ]
          },
          "metadata": {},
          "execution_count": 31
        }
      ]
    },
    {
      "cell_type": "code",
      "source": [
        "t.reshape(1,10)"
      ],
      "metadata": {
        "colab": {
          "base_uri": "https://localhost:8080/"
        },
        "id": "8Vp7D5LT0UrX",
        "outputId": "43bb0637-cec4-4d12-b218-686befe42621"
      },
      "execution_count": 30,
      "outputs": [
        {
          "output_type": "execute_result",
          "data": {
            "text/plain": [
              "tensor([[   0,    1,    2,    3,    4, 9999,    6,    7,    8,    9]])"
            ]
          },
          "metadata": {},
          "execution_count": 30
        }
      ]
    },
    {
      "cell_type": "code",
      "source": [
        "s = torch.rand(3, 4)\n",
        "s"
      ],
      "metadata": {
        "colab": {
          "base_uri": "https://localhost:8080/"
        },
        "id": "otampj833E86",
        "outputId": "1ffbd2e5-6077-4568-89da-20b2139b3ea8"
      },
      "execution_count": 32,
      "outputs": [
        {
          "output_type": "execute_result",
          "data": {
            "text/plain": [
              "tensor([[0.5955, 0.9905, 0.9041, 0.5433],\n",
              "        [0.0594, 0.7466, 0.0817, 0.0852],\n",
              "        [0.1923, 0.7710, 0.8971, 0.9903]])"
            ]
          },
          "metadata": {},
          "execution_count": 32
        }
      ]
    },
    {
      "cell_type": "code",
      "source": [
        "s[1,1] = 0"
      ],
      "metadata": {
        "id": "aTjJIDgK3Nb6"
      },
      "execution_count": 33,
      "outputs": []
    },
    {
      "cell_type": "code",
      "source": [
        "s"
      ],
      "metadata": {
        "colab": {
          "base_uri": "https://localhost:8080/"
        },
        "id": "8-Bziojk3QVd",
        "outputId": "29276bc3-4a76-4738-b5c7-caa42de72a60"
      },
      "execution_count": 34,
      "outputs": [
        {
          "output_type": "execute_result",
          "data": {
            "text/plain": [
              "tensor([[0.5955, 0.9905, 0.9041, 0.5433],\n",
              "        [0.0594, 0.0000, 0.0817, 0.0852],\n",
              "        [0.1923, 0.7710, 0.8971, 0.9903]])"
            ]
          },
          "metadata": {},
          "execution_count": 34
        }
      ]
    },
    {
      "cell_type": "code",
      "source": [
        "s1 = s.reshape(2, 6)\n",
        "s1"
      ],
      "metadata": {
        "colab": {
          "base_uri": "https://localhost:8080/"
        },
        "id": "az3dxRgA3RHx",
        "outputId": "9ad29621-158b-41ff-c2c9-7429ebb1cadf"
      },
      "execution_count": 35,
      "outputs": [
        {
          "output_type": "execute_result",
          "data": {
            "text/plain": [
              "tensor([[0.5955, 0.9905, 0.9041, 0.5433, 0.0594, 0.0000],\n",
              "        [0.0817, 0.0852, 0.1923, 0.7710, 0.8971, 0.9903]])"
            ]
          },
          "metadata": {},
          "execution_count": 35
        }
      ]
    },
    {
      "cell_type": "code",
      "source": [
        "s1[0, 2] = 9999"
      ],
      "metadata": {
        "id": "AWKGLWEj3csi"
      },
      "execution_count": 36,
      "outputs": []
    },
    {
      "cell_type": "code",
      "source": [
        "s1"
      ],
      "metadata": {
        "colab": {
          "base_uri": "https://localhost:8080/"
        },
        "id": "XCP4QVZU3gJZ",
        "outputId": "5a016d57-e09b-4f2d-b5a3-e18583e57535"
      },
      "execution_count": 37,
      "outputs": [
        {
          "output_type": "execute_result",
          "data": {
            "text/plain": [
              "tensor([[5.9553e-01, 9.9047e-01, 9.9990e+03, 5.4331e-01, 5.9419e-02, 0.0000e+00],\n",
              "        [8.1659e-02, 8.5187e-02, 1.9228e-01, 7.7100e-01, 8.9708e-01, 9.9034e-01]])"
            ]
          },
          "metadata": {},
          "execution_count": 37
        }
      ]
    },
    {
      "cell_type": "code",
      "source": [
        "s"
      ],
      "metadata": {
        "colab": {
          "base_uri": "https://localhost:8080/"
        },
        "id": "sLxHEBPy3hGy",
        "outputId": "23d3d15b-c807-472a-978d-cbb66a1fab75"
      },
      "execution_count": 38,
      "outputs": [
        {
          "output_type": "execute_result",
          "data": {
            "text/plain": [
              "tensor([[5.9553e-01, 9.9047e-01, 9.9990e+03, 5.4331e-01],\n",
              "        [5.9419e-02, 0.0000e+00, 8.1659e-02, 8.5187e-02],\n",
              "        [1.9228e-01, 7.7100e-01, 8.9708e-01, 9.9034e-01]])"
            ]
          },
          "metadata": {},
          "execution_count": 38
        }
      ]
    },
    {
      "cell_type": "code",
      "source": [
        "a = torch.arange(10)"
      ],
      "metadata": {
        "id": "kenQJA7f3ifp"
      },
      "execution_count": 39,
      "outputs": []
    },
    {
      "cell_type": "code",
      "source": [
        "a = torch.arange(10)\n",
        "b = a.reshape(5, 2)"
      ],
      "metadata": {
        "id": "D_5saab-4Q1y"
      },
      "execution_count": 43,
      "outputs": []
    },
    {
      "cell_type": "code",
      "source": [
        "b"
      ],
      "metadata": {
        "colab": {
          "base_uri": "https://localhost:8080/"
        },
        "id": "sK7M8w224SKK",
        "outputId": "5350461f-0f9f-40cd-d60e-2e119dee11e1"
      },
      "execution_count": 44,
      "outputs": [
        {
          "output_type": "execute_result",
          "data": {
            "text/plain": [
              "tensor([[0, 1],\n",
              "        [2, 3],\n",
              "        [4, 5],\n",
              "        [6, 7],\n",
              "        [8, 9]])"
            ]
          },
          "metadata": {},
          "execution_count": 44
        }
      ]
    },
    {
      "cell_type": "code",
      "source": [
        "b[:,1]"
      ],
      "metadata": {
        "colab": {
          "base_uri": "https://localhost:8080/"
        },
        "id": "VYTs2DQO4Sqx",
        "outputId": "26646232-8ea2-45fb-d2c1-edff843f0fda"
      },
      "execution_count": 45,
      "outputs": [
        {
          "output_type": "execute_result",
          "data": {
            "text/plain": [
              "tensor([1, 3, 5, 7, 9])"
            ]
          },
          "metadata": {},
          "execution_count": 45
        }
      ]
    },
    {
      "cell_type": "code",
      "source": [
        "b[:,1:]"
      ],
      "metadata": {
        "colab": {
          "base_uri": "https://localhost:8080/"
        },
        "id": "TKT94jH44VLW",
        "outputId": "cd26288b-13eb-4514-ab69-0e42385f1c01"
      },
      "execution_count": 46,
      "outputs": [
        {
          "output_type": "execute_result",
          "data": {
            "text/plain": [
              "tensor([[1],\n",
              "        [3],\n",
              "        [5],\n",
              "        [7],\n",
              "        [9]])"
            ]
          },
          "metadata": {},
          "execution_count": 46
        }
      ]
    },
    {
      "cell_type": "code",
      "source": [],
      "metadata": {
        "id": "e4FNjY1O4bPX"
      },
      "execution_count": null,
      "outputs": []
    }
  ]
}